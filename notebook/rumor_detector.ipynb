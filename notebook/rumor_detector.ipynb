{
 "cells": [
  {
   "cell_type": "code",
   "execution_count": 2,
   "metadata": {},
   "outputs": [],
   "source": [
    "%matplotlib inline\n",
    "import numpy as np\n",
    "import matplotlib.pyplot as plt\n",
    "import re\n",
    "import jieba\n",
    "from gensim.models import KeyedVectors\n",
    "import warnings\n",
    "warnings.filterwarnings(\"ignore\")\n",
    "import bz2\n",
    "import pandas as pd\n",
    "import tensorflow as tf\n",
    "from sklearn.model_selection import train_test_split\n",
    "\n",
    "\n",
    "from tensorflow.keras.preprocessing.text import Tokenizer\n",
    "from tensorflow.keras.preprocessing.sequence import pad_sequences\n",
    "from tensorflow.keras.layers import Dense, Input, GlobalMaxPooling1D\n",
    "from tensorflow.keras.layers import LSTM, Embedding\n",
    "from tensorflow.keras.models import Model\n",
    "\n",
    "from tensorflow.python.keras.models import Sequential\n",
    "from tensorflow.python.keras.layers import Dense, GRU, Embedding, LSTM, Bidirectional\n",
    "from tensorflow.python.keras.preprocessing.text import Tokenizer\n",
    "from tensorflow.python.keras.preprocessing.sequence import pad_sequences\n",
    "from tensorflow.python.keras.optimizers import RMSprop\n",
    "from tensorflow.python.keras.optimizers import Adam\n",
    "from tensorflow.python.keras.callbacks import EarlyStopping, ModelCheckpoint, TensorBoard, ReduceLROnPlateau\n",
    "\n"
   ]
  },
  {
   "cell_type": "code",
   "execution_count": 2,
   "metadata": {},
   "outputs": [],
   "source": [
    "# 请将下载的词向量压缩包放置在根目录 embeddings 文件夹里\n",
    "# 解压词向量, 有可能需要等待1-2分钟\n",
    "with open(\"embeddings/sgns.zhihu.bigram\", 'wb') as new_file, open(\"embeddings/sgns.zhihu.bigram.bz2\", 'rb') as file:\n",
    "    decompressor = bz2.BZ2Decompressor()\n",
    "    for data in iter(lambda : file.read(100 * 1024), b''):\n",
    "        new_file.write(decompressor.decompress(data))"
   ]
  },
  {
   "cell_type": "code",
   "execution_count": 2,
   "metadata": {},
   "outputs": [],
   "source": [
    "# 使用gensim加载预训练中文分词embedding, 有可能需要等待1-2分钟\n",
    "cn_model = KeyedVectors.load_word2vec_format('embeddings/sgns.zhihu.bigram', \n",
    "                                             binary=False, unicode_errors=\"ignore\")"
   ]
  },
  {
   "cell_type": "code",
   "execution_count": 4,
   "metadata": {},
   "outputs": [
    {
     "data": {
      "text/html": [
       "<div>\n",
       "<style scoped>\n",
       "    .dataframe tbody tr th:only-of-type {\n",
       "        vertical-align: middle;\n",
       "    }\n",
       "\n",
       "    .dataframe tbody tr th {\n",
       "        vertical-align: top;\n",
       "    }\n",
       "\n",
       "    .dataframe thead th {\n",
       "        text-align: right;\n",
       "    }\n",
       "</style>\n",
       "<table border=\"1\" class=\"dataframe\">\n",
       "  <thead>\n",
       "    <tr style=\"text-align: right;\">\n",
       "      <th></th>\n",
       "      <th>rumor_labels</th>\n",
       "      <th>rumor_data</th>\n",
       "    </tr>\n",
       "  </thead>\n",
       "  <tbody>\n",
       "    <tr>\n",
       "      <th>0</th>\n",
       "      <td>0</td>\n",
       "      <td>疫情期间大强度锻炼可提高抵抗力？国家体育总局体育科学研究所研究员徐建方：长时间大强度的运动，...</td>\n",
       "    </tr>\n",
       "    <tr>\n",
       "      <th>1</th>\n",
       "      <td>0</td>\n",
       "      <td>吃降压药会增加感染病毒的风险？丁香医生团队辟谣：目前没有任何动物和临床研究数据证实这种说法的...</td>\n",
       "    </tr>\n",
       "    <tr>\n",
       "      <th>2</th>\n",
       "      <td>0</td>\n",
       "      <td>疫情期间大强度锻炼可提高抵抗力？国家体育总局体育科学研究所研究员徐建方：长时间大强度的运动，...</td>\n",
       "    </tr>\n",
       "    <tr>\n",
       "      <th>3</th>\n",
       "      <td>0</td>\n",
       "      <td>改用吸痰机后，武汉死亡人数减半？刘良教授辟谣：没有干预过任何个例的临床治疗有传闻称：「病患遗...</td>\n",
       "    </tr>\n",
       "    <tr>\n",
       "      <th>4</th>\n",
       "      <td>0</td>\n",
       "      <td>吃降压药会增加感染病毒的风险？丁香医生团队辟谣：目前没有任何动物和临床研究数据证实这种说法的...</td>\n",
       "    </tr>\n",
       "  </tbody>\n",
       "</table>\n",
       "</div>"
      ],
      "text/plain": [
       "   rumor_labels                                         rumor_data\n",
       "0             0  疫情期间大强度锻炼可提高抵抗力？国家体育总局体育科学研究所研究员徐建方：长时间大强度的运动，...\n",
       "1             0  吃降压药会增加感染病毒的风险？丁香医生团队辟谣：目前没有任何动物和临床研究数据证实这种说法的...\n",
       "2             0  疫情期间大强度锻炼可提高抵抗力？国家体育总局体育科学研究所研究员徐建方：长时间大强度的运动，...\n",
       "3             0  改用吸痰机后，武汉死亡人数减半？刘良教授辟谣：没有干预过任何个例的临床治疗有传闻称：「病患遗...\n",
       "4             0  吃降压药会增加感染病毒的风险？丁香医生团队辟谣：目前没有任何动物和临床研究数据证实这种说法的..."
      ]
     },
     "execution_count": 4,
     "metadata": {},
     "output_type": "execute_result"
    }
   ],
   "source": [
    "df= pd.read_csv('./data/DXYRumors.csv')\n",
    "df['rumor_data'] = df['title']+df['mainSummary']+df['body']\n",
    "df= df.drop([\"id\",\"_id\",\"summary\",\"sourceUrl\",\"crawlTime\",\"title\",\"mainSummary\",\"summary\",\"body\"], axis=1)\n",
    "# rename columns \n",
    "df.columns = ['rumor_labels', 'rumor_data']\n",
    "df.head()"
   ]
  },
  {
   "cell_type": "code",
   "execution_count": 5,
   "metadata": {},
   "outputs": [
    {
     "name": "stderr",
     "output_type": "stream",
     "text": [
      "Building prefix dict from the default dictionary ...\n",
      "Loading model from cache C:\\Users\\cheng\\AppData\\Local\\Temp\\jieba.cache\n",
      "Loading model cost 1.686 seconds.\n",
      "Prefix dict has been built successfully.\n"
     ]
    },
    {
     "data": {
      "text/html": [
       "<div>\n",
       "<style scoped>\n",
       "    .dataframe tbody tr th:only-of-type {\n",
       "        vertical-align: middle;\n",
       "    }\n",
       "\n",
       "    .dataframe tbody tr th {\n",
       "        vertical-align: top;\n",
       "    }\n",
       "\n",
       "    .dataframe thead th {\n",
       "        text-align: right;\n",
       "    }\n",
       "</style>\n",
       "<table border=\"1\" class=\"dataframe\">\n",
       "  <thead>\n",
       "    <tr style=\"text-align: right;\">\n",
       "      <th></th>\n",
       "      <th>rumor_labels</th>\n",
       "      <th>rumor_data</th>\n",
       "    </tr>\n",
       "  </thead>\n",
       "  <tbody>\n",
       "    <tr>\n",
       "      <th>0</th>\n",
       "      <td>0</td>\n",
       "      <td>疫情 期间 大 强度 锻炼 可 提高 抵抗力 ？ 国家体育总局 体育 科学 研究所 研究员 ...</td>\n",
       "    </tr>\n",
       "    <tr>\n",
       "      <th>1</th>\n",
       "      <td>0</td>\n",
       "      <td>吃 降压药 会 增加 感染 病毒 的 风险 ？ 丁香 医生 团队 辟谣 ： 目前 没有 任何...</td>\n",
       "    </tr>\n",
       "    <tr>\n",
       "      <th>2</th>\n",
       "      <td>0</td>\n",
       "      <td>疫情 期间 大 强度 锻炼 可 提高 抵抗力 ？ 国家体育总局 体育 科学 研究所 研究员 ...</td>\n",
       "    </tr>\n",
       "    <tr>\n",
       "      <th>3</th>\n",
       "      <td>0</td>\n",
       "      <td>改用 吸痰 机后 ， 武汉 死亡 人数 减半 ？ 刘良 教授 辟谣 ： 没有 干预 过 任何...</td>\n",
       "    </tr>\n",
       "    <tr>\n",
       "      <th>4</th>\n",
       "      <td>0</td>\n",
       "      <td>吃 降压药 会 增加 感染 病毒 的 风险 ？ 丁香 医生 团队 辟谣 ： 目前 没有 任何...</td>\n",
       "    </tr>\n",
       "  </tbody>\n",
       "</table>\n",
       "</div>"
      ],
      "text/plain": [
       "   rumor_labels                                         rumor_data\n",
       "0             0  疫情 期间 大 强度 锻炼 可 提高 抵抗力 ？ 国家体育总局 体育 科学 研究所 研究员 ...\n",
       "1             0  吃 降压药 会 增加 感染 病毒 的 风险 ？ 丁香 医生 团队 辟谣 ： 目前 没有 任何...\n",
       "2             0  疫情 期间 大 强度 锻炼 可 提高 抵抗力 ？ 国家体育总局 体育 科学 研究所 研究员 ...\n",
       "3             0  改用 吸痰 机后 ， 武汉 死亡 人数 减半 ？ 刘良 教授 辟谣 ： 没有 干预 过 任何...\n",
       "4             0  吃 降压药 会 增加 感染 病毒 的 风险 ？ 丁香 医生 团队 辟谣 ： 目前 没有 任何..."
      ]
     },
     "execution_count": 5,
     "metadata": {},
     "output_type": "execute_result"
    }
   ],
   "source": [
    "df['rumor_data'] = df.rumor_data.apply(lambda x: \" \".join(jieba.cut(x)))\n",
    "df.head()"
   ]
  },
  {
   "cell_type": "code",
   "execution_count": 6,
   "metadata": {},
   "outputs": [],
   "source": [
    "# create labels\n",
    "Y = df['rumor_labels'].values\n",
    "# split up the data\n",
    "df_train, df_test, Ytrain, Ytest = train_test_split(df['rumor_data'], Y, test_size=0.33)"
   ]
  },
  {
   "cell_type": "code",
   "execution_count": 7,
   "metadata": {},
   "outputs": [
    {
     "name": "stdout",
     "output_type": "stream",
     "text": [
      "Found 3270 unique tokens.\n"
     ]
    }
   ],
   "source": [
    "# Convert sentences to sequences\n",
    "MAX_VOCAB_SIZE = 20000\n",
    "tokenizer = Tokenizer(num_words=MAX_VOCAB_SIZE)\n",
    "tokenizer.fit_on_texts(df.rumor_data)\n",
    "# get word -> integer mapping\n",
    "word2idx = tokenizer.word_index\n",
    "V = len(word2idx)\n",
    "print('Found %s unique tokens.' % V)\n",
    "sequences_train = tokenizer.texts_to_sequences(df_train)\n",
    "sequences_test = tokenizer.texts_to_sequences(df_test)"
   ]
  },
  {
   "cell_type": "code",
   "execution_count": 8,
   "metadata": {},
   "outputs": [
    {
     "name": "stdout",
     "output_type": "stream",
     "text": [
      "Shape of data train tensor: (190, 141)\n",
      "Shape of data test tensor: (94, 141)\n"
     ]
    }
   ],
   "source": [
    "# pad sequences so that we get a N x T matrix\n",
    "data_train = pad_sequences(sequences_train)\n",
    "print('Shape of data train tensor:', data_train.shape)\n",
    "# get sequence length\n",
    "T = data_train.shape[1]\n",
    "\n",
    "data_test = pad_sequences(sequences_test, maxlen=T)\n",
    "print('Shape of data test tensor:', data_test.shape)"
   ]
  },
  {
   "cell_type": "code",
   "execution_count": 9,
   "metadata": {},
   "outputs": [
    {
     "name": "stdout",
     "output_type": "stream",
     "text": [
      "(20000, 300)\n"
     ]
    }
   ],
   "source": [
    "embedding_dim = 300\n",
    "# 只使用前20000个词\n",
    "num_words = 20000\n",
    "# 初始化embedding_matrix，之后在keras上进行应用\n",
    "embedding_matrix = np.zeros((num_words, embedding_dim))\n",
    "# embedding_matrix为一个 [num_words，embedding_dim] 的矩阵\n",
    "# 维度为 50000 * 300\n",
    "for i in range(num_words):\n",
    "    embedding_matrix[i,:] = cn_model[cn_model.index2word[i]]\n",
    "embedding_matrix = embedding_matrix.astype('float32')\n",
    "\n",
    "#embedding_matrix = tf.convert_to_tensor(embedding_matrix, dtype=tf.float32)\n",
    "embedding_matrix=np.asarray(embedding_matrix)\n",
    "#embedding_matrix = tf.constant(embedding_matrix, dtype=tf.float32)\n",
    "\n",
    "# 检查index是否对应，\n",
    "# 输出300意义为长度为300的embedding向量一一对应\n",
    "#print(np.sum( cn_model[cn_model.index2word[333]] == embedding_matrix[333] ))\n",
    "\n",
    "# embedding_matrix的维度，\n",
    "# 这个维度为keras的要求，后续会在模型中用到\n",
    "print(embedding_matrix.shape)"
   ]
  },
  {
   "cell_type": "code",
   "execution_count": 13,
   "metadata": {},
   "outputs": [],
   "source": [
    "model = Sequential()\n",
    "model.add(Embedding(num_words,\n",
    "                    embedding_dim,\n",
    "                    weights=[embedding_matrix],\n",
    "                    trainable=False))\n",
    "model.add(Bidirectional(LSTM(units=64, return_sequences=True)))\n",
    "model.add(LSTM(units=16, return_sequences=False))\n",
    "model.add(Dense(3, activation='softmax'))"
   ]
  },
  {
   "cell_type": "code",
   "execution_count": 14,
   "metadata": {},
   "outputs": [
    {
     "name": "stdout",
     "output_type": "stream",
     "text": [
      "Training model...\n",
      "Train on 190 samples, validate on 94 samples\n",
      "Epoch 1/10\n",
      "190/190 [==============================] - 15s 78ms/sample - loss: 0.8505 - accuracy: 0.6842 - val_loss: 0.7337 - val_accuracy: 0.7447\n",
      "Epoch 2/10\n",
      "190/190 [==============================] - 5s 27ms/sample - loss: 0.5861 - accuracy: 0.8211 - val_loss: 0.7404 - val_accuracy: 0.7447\n",
      "Epoch 3/10\n",
      "190/190 [==============================] - 5s 28ms/sample - loss: 0.5617 - accuracy: 0.8211 - val_loss: 0.7538 - val_accuracy: 0.7447\n",
      "Epoch 4/10\n",
      "190/190 [==============================] - 5s 29ms/sample - loss: 0.5538 - accuracy: 0.8211 - val_loss: 0.7494 - val_accuracy: 0.7447\n",
      "Epoch 5/10\n",
      "190/190 [==============================] - 5s 29ms/sample - loss: 0.5364 - accuracy: 0.8211 - val_loss: 0.7249 - val_accuracy: 0.7447\n",
      "Epoch 6/10\n",
      "190/190 [==============================] - 5s 27ms/sample - loss: 0.4982 - accuracy: 0.8211 - val_loss: 0.6983 - val_accuracy: 0.7447\n",
      "Epoch 7/10\n",
      "190/190 [==============================] - 5s 27ms/sample - loss: 0.4626 - accuracy: 0.8211 - val_loss: 0.6802 - val_accuracy: 0.7447\n",
      "Epoch 8/10\n",
      "190/190 [==============================] - 5s 28ms/sample - loss: 0.4120 - accuracy: 0.8211 - val_loss: 0.6662 - val_accuracy: 0.7447\n",
      "Epoch 9/10\n",
      "190/190 [==============================] - 5s 28ms/sample - loss: 0.3833 - accuracy: 0.8421 - val_loss: 0.6659 - val_accuracy: 0.7553\n",
      "Epoch 10/10\n",
      "190/190 [==============================] - 6s 30ms/sample - loss: 0.3403 - accuracy: 0.8789 - val_loss: 0.6765 - val_accuracy: 0.8191\n"
     ]
    }
   ],
   "source": [
    "# Compile and fit\n",
    "model.compile(\n",
    "  loss='sparse_categorical_crossentropy',\n",
    "  optimizer='adam',\n",
    "  metrics=['accuracy']\n",
    ")\n",
    "\n",
    "\n",
    "print('Training model...')\n",
    "r = model.fit(data_train, Ytrain, epochs=10, validation_data=(data_test, Ytest))"
   ]
  },
  {
   "cell_type": "code",
   "execution_count": 89,
   "metadata": {},
   "outputs": [
    {
     "data": {
      "text/plain": [
       "<matplotlib.legend.Legend at 0x2547e8dc1c8>"
      ]
     },
     "execution_count": 89,
     "metadata": {},
     "output_type": "execute_result"
    },
    {
     "data": {
      "image/png": "[encoded data removed]",
      "text/plain": [
       "<Figure size 432x288 with 1 Axes>"
      ]
     },
     "metadata": {
      "needs_background": "light"
     },
     "output_type": "display_data"
    }
   ],
   "source": [
    "# Plot loss per iteration\n",
    "import matplotlib.pyplot as plt\n",
    "plt.plot(r.history['loss'], label='loss')\n",
    "plt.plot(r.history['val_loss'], label='val_loss')\n",
    "plt.legend()\n",
    "# Plot accuracy per iteration\n",
    "plt.plot(r.history['accuracy'], label='accuracy')\n",
    "plt.plot(r.history['val_accuracy'], label='val_acc')\n",
    "plt.legend()"
   ]
  },
  {
   "cell_type": "code",
   "execution_count": 97,
   "metadata": {
    "scrolled": false
   },
   "outputs": [
    {
     "name": "stdout",
     "output_type": "stream",
     "text": [
      "[[0.79859203 0.11008628 0.09132165]]\n"
     ]
    }
   ],
   "source": [
    "txt = \"吃汉堡能提高免疫力?丁香医生：胡说八道\"\n",
    "seq = tokenizer.texts_to_sequences([\" \".join(jieba.cut(txt))])\n",
    "padded = pad_sequences(seq, maxlen=141)\n",
    "pred = model.predict(padded)\n",
    "print(pred)"
   ]
  },
  {
   "cell_type": "code",
   "execution_count": 95,
   "metadata": {},
   "outputs": [
    {
     "data": {
      "text/plain": [
       "array([[   0,    0,    0, ...,    0,    0,   63],\n",
       "       [   0,    0,    0, ...,    0,    0,    0],\n",
       "       [   0,    0,    0, ...,    0,    0,    0],\n",
       "       ...,\n",
       "       [   0,    0,    0, ...,    0,    0,  231],\n",
       "       [   0,    0,    0, ...,    0,    0,    0],\n",
       "       [   0,    0,    0, ...,    0,    0, 2992]])"
      ]
     },
     "execution_count": 95,
     "metadata": {},
     "output_type": "execute_result"
    }
   ],
   "source": [
    "pad_sequences(seq, maxlen=20000)"
   ]
  },
  {
   "cell_type": "code",
   "execution_count": null,
   "metadata": {},
   "outputs": [],
   "source": [
    "train_tokens = []\n",
    "for rumor in df['rumor_data']:\n",
    "    rumor = re.sub(\"[\\s+\\.\\!\\/_,$%^*(+\\\"\\']+|[+——！，。？、~@#￥%……&*（）]+\", \"\",rumor)\n",
    "    # 结巴分词\n",
    "    cut = jieba.cut(rumor)\n",
    "    # 结巴分词的输出结果为一个生成器\n",
    "    # 把生成器转换为list\n",
    "    cut_list = [ i for i in cut ]\n",
    "    for i, word in enumerate(cut_list):\n",
    "        try:\n",
    "            # 将词转换为索引index\n",
    "            cut_list[i] = cn_model.vocab[word].index\n",
    "        except KeyError:\n",
    "            # 如果词不在字典中，则输出0\n",
    "            cut_list[i] = 0\n",
    "    train_tokens.append(cut_list)"
   ]
  },
  {
   "cell_type": "code",
   "execution_count": 64,
   "metadata": {
    "scrolled": false
   },
   "outputs": [
    {
     "data": {
      "image/png": "[encoded data removed]",
      "text/plain": [
       "<Figure size 432x288 with 1 Axes>"
      ]
     },
     "metadata": {
      "needs_background": "light"
     },
     "output_type": "display_data"
    }
   ],
   "source": [
    "num_tokens = [ len(tokens) for tokens in train_tokens ]\n",
    "num_tokens = np.array(num_tokens)\n",
    "# 平均tokens的长度\n",
    "np.mean(num_tokens)\n",
    "# 最长的评价tokens的长度\n",
    "np.max(num_tokens)\n",
    "plt.hist(np.log(num_tokens), bins = 100)\n",
    "plt.xlim((0,10))\n",
    "plt.ylabel('number of tokens')\n",
    "plt.xlabel('length of tokens')\n",
    "plt.title('Distribution of tokens length')\n",
    "plt.show()"
   ]
  },
  {
   "cell_type": "code",
   "execution_count": 67,
   "metadata": {},
   "outputs": [
    {
     "name": "stdout",
     "output_type": "stream",
     "text": [
      "120\n"
     ]
    },
    {
     "data": {
      "text/plain": [
       "0.9753521126760564"
      ]
     },
     "execution_count": 67,
     "metadata": {},
     "output_type": "execute_result"
    }
   ],
   "source": [
    "# 取tokens平均值并加上两个tokens的标准差，\n",
    "# 假设tokens长度的分布为正态分布，则max_tokens这个值可以涵盖95%左右的样本\n",
    "max_tokens = np.mean(num_tokens) + 2 * np.std(num_tokens)\n",
    "max_tokens = int(max_tokens)\n",
    "print(max_tokens)\n",
    "\n",
    "# 取tokens的长度为236时，大约95%的样本被涵盖\n",
    "# 我们对长度不足的进行padding，超长的进行修剪\n",
    "np.sum( num_tokens < max_tokens ) / len(num_tokens)"
   ]
  },
  {
   "cell_type": "code",
   "execution_count": 3,
   "metadata": {},
   "outputs": [
    {
     "data": {
      "text/html": [
       "<div>\n",
       "<style scoped>\n",
       "    .dataframe tbody tr th:only-of-type {\n",
       "        vertical-align: middle;\n",
       "    }\n",
       "\n",
       "    .dataframe tbody tr th {\n",
       "        vertical-align: top;\n",
       "    }\n",
       "\n",
       "    .dataframe thead th {\n",
       "        text-align: right;\n",
       "    }\n",
       "</style>\n",
       "<table border=\"1\" class=\"dataframe\">\n",
       "  <thead>\n",
       "    <tr style=\"text-align: right;\">\n",
       "      <th></th>\n",
       "      <th>rumor_labels</th>\n",
       "      <th>rumor_data</th>\n",
       "    </tr>\n",
       "  </thead>\n",
       "  <tbody>\n",
       "    <tr>\n",
       "      <th>0</th>\n",
       "      <td>0</td>\n",
       "      <td>疫情期间大强度锻炼可提高抵抗力？国家体育总局体育科学研究所研究员徐建方：长时间大强度的运动，...</td>\n",
       "    </tr>\n",
       "    <tr>\n",
       "      <th>1</th>\n",
       "      <td>0</td>\n",
       "      <td>吃降压药会增加感染病毒的风险？丁香医生团队辟谣：目前没有任何动物和临床研究数据证实这种说法的...</td>\n",
       "    </tr>\n",
       "    <tr>\n",
       "      <th>2</th>\n",
       "      <td>0</td>\n",
       "      <td>疫情期间大强度锻炼可提高抵抗力？国家体育总局体育科学研究所研究员徐建方：长时间大强度的运动，...</td>\n",
       "    </tr>\n",
       "    <tr>\n",
       "      <th>3</th>\n",
       "      <td>0</td>\n",
       "      <td>改用吸痰机后，武汉死亡人数减半？刘良教授辟谣：没有干预过任何个例的临床治疗有传闻称：「病患遗...</td>\n",
       "    </tr>\n",
       "    <tr>\n",
       "      <th>4</th>\n",
       "      <td>0</td>\n",
       "      <td>吃降压药会增加感染病毒的风险？丁香医生团队辟谣：目前没有任何动物和临床研究数据证实这种说法的...</td>\n",
       "    </tr>\n",
       "  </tbody>\n",
       "</table>\n",
       "</div>"
      ],
      "text/plain": [
       "   rumor_labels                                         rumor_data\n",
       "0             0  疫情期间大强度锻炼可提高抵抗力？国家体育总局体育科学研究所研究员徐建方：长时间大强度的运动，...\n",
       "1             0  吃降压药会增加感染病毒的风险？丁香医生团队辟谣：目前没有任何动物和临床研究数据证实这种说法的...\n",
       "2             0  疫情期间大强度锻炼可提高抵抗力？国家体育总局体育科学研究所研究员徐建方：长时间大强度的运动，...\n",
       "3             0  改用吸痰机后，武汉死亡人数减半？刘良教授辟谣：没有干预过任何个例的临床治疗有传闻称：「病患遗...\n",
       "4             0  吃降压药会增加感染病毒的风险？丁香医生团队辟谣：目前没有任何动物和临床研究数据证实这种说法的..."
      ]
     },
     "execution_count": 3,
     "metadata": {},
     "output_type": "execute_result"
    }
   ],
   "source": [
    "df= pd.read_csv('./data/DXYRumors.csv')\n",
    "df['rumor_data'] = df['title']+df['mainSummary']+df['body']\n",
    "df= df.drop([\"id\",\"_id\",\"summary\",\"sourceUrl\",\"crawlTime\",\"title\",\"mainSummary\",\"summary\",\"body\"], axis=1)\n",
    "# rename columns \n",
    "df.columns = ['rumor_labels', 'rumor_data']\n",
    "df.head()"
   ]
  },
  {
   "cell_type": "code",
   "execution_count": 4,
   "metadata": {},
   "outputs": [
    {
     "data": {
      "text/html": [
       "<div>\n",
       "<style scoped>\n",
       "    .dataframe tbody tr th:only-of-type {\n",
       "        vertical-align: middle;\n",
       "    }\n",
       "\n",
       "    .dataframe tbody tr th {\n",
       "        vertical-align: top;\n",
       "    }\n",
       "\n",
       "    .dataframe thead th {\n",
       "        text-align: right;\n",
       "    }\n",
       "</style>\n",
       "<table border=\"1\" class=\"dataframe\">\n",
       "  <thead>\n",
       "    <tr style=\"text-align: right;\">\n",
       "      <th></th>\n",
       "      <th>label</th>\n",
       "      <th>news_data</th>\n",
       "    </tr>\n",
       "  </thead>\n",
       "  <tbody>\n",
       "    <tr>\n",
       "      <th>0</th>\n",
       "      <td>3</td>\n",
       "      <td>世卫组织：全球新冠肺炎超过769万例根据世卫组织最新实时统计数据，截至欧洲中部夏令时间6月1...</td>\n",
       "    </tr>\n",
       "    <tr>\n",
       "      <th>1</th>\n",
       "      <td>3</td>\n",
       "      <td>北京机场巴士公司声明：确诊病例未与公司人员及任何旅客有过接触据机场巴士官方平台微信公众号6月...</td>\n",
       "    </tr>\n",
       "    <tr>\n",
       "      <th>2</th>\n",
       "      <td>3</td>\n",
       "      <td>土耳其疫情暴发以来首次举行大规模全国性考试，45万考生参加当地时间6月14日，土耳其举行国防...</td>\n",
       "    </tr>\n",
       "    <tr>\n",
       "      <th>3</th>\n",
       "      <td>3</td>\n",
       "      <td>印度德里计划改造酒店，增加2万张病床印度德里首都辖区政府：将在未来一周内通过改造全市的酒店和...</td>\n",
       "    </tr>\n",
       "    <tr>\n",
       "      <th>4</th>\n",
       "      <td>3</td>\n",
       "      <td>世卫组织：全球新冠肺炎确诊病例超过763万例根据世卫组织最新实时统计数据，截至欧洲中部夏令时...</td>\n",
       "    </tr>\n",
       "  </tbody>\n",
       "</table>\n",
       "</div>"
      ],
      "text/plain": [
       "   label                                          news_data\n",
       "0      3  世卫组织：全球新冠肺炎超过769万例根据世卫组织最新实时统计数据，截至欧洲中部夏令时间6月1...\n",
       "1      3  北京机场巴士公司声明：确诊病例未与公司人员及任何旅客有过接触据机场巴士官方平台微信公众号6月...\n",
       "2      3  土耳其疫情暴发以来首次举行大规模全国性考试，45万考生参加当地时间6月14日，土耳其举行国防...\n",
       "3      3  印度德里计划改造酒店，增加2万张病床印度德里首都辖区政府：将在未来一周内通过改造全市的酒店和...\n",
       "4      3  世卫组织：全球新冠肺炎确诊病例超过763万例根据世卫组织最新实时统计数据，截至欧洲中部夏令时..."
      ]
     },
     "execution_count": 4,
     "metadata": {},
     "output_type": "execute_result"
    }
   ],
   "source": [
    "news= pd.read_csv('./data/DXY_news.csv')\n",
    "news.head()\n",
    "news['news_data'] = news['title']+news['summary']\n",
    "news= news.drop([\"_id\",\"id\",\"title\",\"pubDate\",\"summary\",\"infoSource\",\"sourceUrl\",\"provinceId\",\"crawlTime\",\"entryWay\",\"infoType\",\"dataInfoState\",\"dataInfoOperator\",\"dataInfoTime\",\"provinceName\",\"createTime\",\"modifyTime\",\"adoptType\",\"body\"], axis=1)\n",
    "# rename columns \n",
    "news.columns = [ 'label','news_data']\n",
    "news.head()"
   ]
  },
  {
   "cell_type": "code",
   "execution_count": null,
   "metadata": {},
   "outputs": [],
   "source": [
    "res1=pd.concat([df,news],axis=1,ignore_index=True)"
   ]
  },
  {
   "cell_type": "code",
   "execution_count": null,
   "metadata": {},
   "outputs": [],
   "source": []
  }
 ],
 "metadata": {
  "kernelspec": {
   "display_name": "Python 3",
   "language": "python",
   "name": "python3"
  },
  "language_info": {
   "codemirror_mode": {
    "name": "ipython",
    "version": 3
   },
   "file_extension": ".py",
   "mimetype": "text/x-python",
   "name": "python",
   "nbconvert_exporter": "python",
   "pygments_lexer": "ipython3",
   "version": "3.7.6"
  },
  "pycharm": {
   "stem_cell": {
    "cell_type": "raw",
    "metadata": {
     "collapsed": false
    },
    "source": []
   }
  }
 },
 "nbformat": 4,
 "nbformat_minor": 1
}
