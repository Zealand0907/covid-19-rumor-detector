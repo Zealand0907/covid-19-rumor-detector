{
 "cells": [
  {
   "cell_type": "code",
   "execution_count": 2,
   "metadata": {},
   "outputs": [
    {
     "name": "stderr",
     "output_type": "stream",
     "text": [
      "/home/link/miniconda3/envs/bert/lib/python3.6/site-packages/tensorflow/python/framework/dtypes.py:523: FutureWarning: Passing (type, 1) or '1type' as a synonym of type is deprecated; in a future version of numpy, it will be understood as (type, (1,)) / '(1,)type'.\n",
      "  _np_qint8 = np.dtype([(\"qint8\", np.int8, 1)])\n",
      "/home/link/miniconda3/envs/bert/lib/python3.6/site-packages/tensorflow/python/framework/dtypes.py:524: FutureWarning: Passing (type, 1) or '1type' as a synonym of type is deprecated; in a future version of numpy, it will be understood as (type, (1,)) / '(1,)type'.\n",
      "  _np_quint8 = np.dtype([(\"quint8\", np.uint8, 1)])\n",
      "/home/link/miniconda3/envs/bert/lib/python3.6/site-packages/tensorflow/python/framework/dtypes.py:525: FutureWarning: Passing (type, 1) or '1type' as a synonym of type is deprecated; in a future version of numpy, it will be understood as (type, (1,)) / '(1,)type'.\n",
      "  _np_qint16 = np.dtype([(\"qint16\", np.int16, 1)])\n",
      "/home/link/miniconda3/envs/bert/lib/python3.6/site-packages/tensorflow/python/framework/dtypes.py:526: FutureWarning: Passing (type, 1) or '1type' as a synonym of type is deprecated; in a future version of numpy, it will be understood as (type, (1,)) / '(1,)type'.\n",
      "  _np_quint16 = np.dtype([(\"quint16\", np.uint16, 1)])\n",
      "/home/link/miniconda3/envs/bert/lib/python3.6/site-packages/tensorflow/python/framework/dtypes.py:527: FutureWarning: Passing (type, 1) or '1type' as a synonym of type is deprecated; in a future version of numpy, it will be understood as (type, (1,)) / '(1,)type'.\n",
      "  _np_qint32 = np.dtype([(\"qint32\", np.int32, 1)])\n",
      "/home/link/miniconda3/envs/bert/lib/python3.6/site-packages/tensorflow/python/framework/dtypes.py:532: FutureWarning: Passing (type, 1) or '1type' as a synonym of type is deprecated; in a future version of numpy, it will be understood as (type, (1,)) / '(1,)type'.\n",
      "  np_resource = np.dtype([(\"resource\", np.ubyte, 1)])\n"
     ]
    }
   ],
   "source": [
    "from sentence_transformers import SentenceTransformer\n",
    "import numpy as np\n",
    "import pandas as pd\n",
    "import sys\n",
    "sys.path.append('../../')\n",
    "from bert import nli\n",
    "import tensorflow as tf\n",
    "import re"
   ]
  },
  {
   "cell_type": "code",
   "execution_count": 5,
   "metadata": {},
   "outputs": [],
   "source": [
    "def softmax(x):\n",
    "    \"\"\"Compute softmax values for each sets of scores in x.\"\"\"\n",
    "    return np.exp(x) / np.sum(np.exp(x), axis=0)\n",
    "\n",
    "nli_labels = [\"contradiction\", \"entailment\", \"neutral\"]\n",
    "rumor_labels = [\"rumor\", \"truth\", \"unconfirmed claim\",\"nonrumor\"]"
   ]
  },
  {
   "cell_type": "code",
   "execution_count": 6,
   "metadata": {},
   "outputs": [],
   "source": [
    "tf.logging.set_verbosity(tf.logging.ERROR)\n",
    "predict_fn = nli.get_nli_predict_fn(\n",
    "    bert_base_dir = '../../chinese-bert_chinese_wwm_L-12_H-768_A-12',\n",
    "    output_dir = '../../xnli_output'\n",
    ")"
   ]
  },
  {
   "cell_type": "code",
   "execution_count": 7,
   "metadata": {},
   "outputs": [
    {
     "name": "stderr",
     "output_type": "stream",
     "text": [
      "/home/link/miniconda3/envs/bert/lib/python3.6/site-packages/transformers/tokenization_utils.py:831: FutureWarning: Parameter max_len is deprecated and will be removed in a future release. Use model_max_length instead.\n",
      "  category=FutureWarning,\n"
     ]
    }
   ],
   "source": [
    "model = SentenceTransformer('distiluse-base-multilingual-cased')"
   ]
  },
  {
   "cell_type": "code",
   "execution_count": 28,
   "metadata": {},
   "outputs": [],
   "source": [
    "dxy= pd.read_csv('../data/DXY_rumors.csv')\n",
    "piyao = pd.read_csv('../data/piyao.csv')\n",
    "df = pd.concat([dxy,piyao])\n",
    "# df = df.drop(['_id','id','mainSummary','summary','sourceUrl','crawlTime','body'],axis=1)"
   ]
  },
  {
   "cell_type": "code",
   "execution_count": 29,
   "metadata": {},
   "outputs": [],
   "source": [
    "def detect_rumor(input_text):\n",
    "    text_b = input_text\n",
    "    x = np.array(model.encode([text_b]))\n",
    "    z = np.array(model.encode(df.title.values))\n",
    "    f=z.dot(x.transpose()).reshape(len(df))\n",
    "    p=softmax(f)\n",
    "    most_match_index = np.argmax(p)\n",
    "    text_a = re.sub('[？?]','',df.title.values[most_match_index])\n",
    "    label_a = df.rumorType.values[most_match_index]\n",
    "    #df.values[np.where(p>0.004)]\n",
    "    #print(text_a,rumor_labels[label_a])\n",
    "    examples = [\n",
    "        nli.InputExample(guid='prodiction-1',text_a=text_a,text_b=text_b,label='neutral')\n",
    "    ]\n",
    "    result = predict_fn(examples)\n",
    "    for (i, prediction) in enumerate(result):\n",
    "        probabilities = prediction['probabilities']\n",
    "        print(text_a,'->',text_b,': ',nli_labels[np.argmax(probabilities)])\n",
    "        if np.argmax(probabilities)==0:\n",
    "            rumor_labels = [\"truth\", \"rumor\", \"unconfirmed claim\",\"nonrumor\"]\n",
    "        else:\n",
    "            rumor_labels = [\"rumor\", \"truth\", \"unconfirmed claim\",\"nonrumor\"]\n",
    "        if np.argmax(probabilities)<2:\n",
    "            print(text_b,' is ',rumor_labels[label_a])\n",
    "        else:\n",
    "            print('Most related '+rumor_labels[label_a]+' is: ',text_a)\n"
   ]
  },
  {
   "cell_type": "code",
   "execution_count": 30,
   "metadata": {},
   "outputs": [
    {
     "name": "stdout",
     "output_type": "stream",
     "text": [
      "钟南山院士被传染 -> 钟南山没被传染 :  contradiction\n",
      "钟南山没被传染  is  truth\n"
     ]
    }
   ],
   "source": [
    "detect_rumor('钟南山没被传染')"
   ]
  },
  {
   "cell_type": "code",
   "execution_count": 31,
   "metadata": {},
   "outputs": [
    {
     "name": "stdout",
     "output_type": "stream",
     "text": [
      "钟南山院士被传染 -> 钟南山被传染 :  entailment\n",
      "钟南山被传染  is  rumor\n"
     ]
    }
   ],
   "source": [
    "detect_rumor('钟南山被传染')"
   ]
  },
  {
   "cell_type": "code",
   "execution_count": 32,
   "metadata": {},
   "outputs": [
    {
     "name": "stdout",
     "output_type": "stream",
     "text": [
      "吃奥司他韦可以预防新冠病毒 -> 奥司他韦可以用于预防新冠病毒 :  entailment\n",
      "奥司他韦可以用于预防新冠病毒  is  rumor\n"
     ]
    }
   ],
   "source": [
    "detect_rumor('奥司他韦可以用于预防新冠病毒')"
   ]
  },
  {
   "cell_type": "code",
   "execution_count": 33,
   "metadata": {},
   "outputs": [
    {
     "name": "stdout",
     "output_type": "stream",
     "text": [
      "双黄连可以预防新冠病毒 -> 双黄连不可以预防病毒 :  contradiction\n",
      "双黄连不可以预防病毒  is  truth\n"
     ]
    }
   ],
   "source": [
    "detect_rumor('双黄连不可以预防病毒')"
   ]
  },
  {
   "cell_type": "code",
   "execution_count": 34,
   "metadata": {},
   "outputs": [
    {
     "name": "stdout",
     "output_type": "stream",
     "text": [
      "双黄连可以预防新冠病毒 -> 双黄连可以预防病毒 :  entailment\n",
      "双黄连可以预防病毒  is  rumor\n"
     ]
    }
   ],
   "source": [
    "detect_rumor('双黄连可以预防病毒')"
   ]
  },
  {
   "cell_type": "code",
   "execution_count": 35,
   "metadata": {},
   "outputs": [
    {
     "name": "stdout",
     "output_type": "stream",
     "text": [
      "肉蛋鱼、海鲜不能吃了 -> 汉堡好吃 :  contradiction\n",
      "汉堡好吃  is  unconfirmed claim\n"
     ]
    }
   ],
   "source": [
    "detect_rumor('汉堡好吃')"
   ]
  },
  {
   "cell_type": "code",
   "execution_count": 45,
   "metadata": {},
   "outputs": [
    {
     "name": "stdout",
     "output_type": "stream",
     "text": [
      "返沪留学生全部隔离在崇明区 -> 留学生会被隔离 :  entailment\n",
      "留学生会被隔离  is  rumor\n"
     ]
    }
   ],
   "source": [
    "detect_rumor('留学生会被隔离')"
   ]
  },
  {
   "cell_type": "code",
   "execution_count": null,
   "metadata": {},
   "outputs": [],
   "source": []
  }
 ],
 "metadata": {
  "kernelspec": {
   "display_name": "Python [conda env:bert]",
   "language": "python",
   "name": "conda-env-bert-py"
  },
  "language_info": {
   "codemirror_mode": {
    "name": "ipython",
    "version": 3
   },
   "file_extension": ".py",
   "mimetype": "text/x-python",
   "name": "python",
   "nbconvert_exporter": "python",
   "pygments_lexer": "ipython3",
   "version": "3.6.10"
  }
 },
 "nbformat": 4,
 "nbformat_minor": 4
}
