{
 "cells": [
  {
   "cell_type": "code",
   "execution_count": 19,
   "metadata": {},
   "outputs": [],
   "source": [
    "import pandas as pd\n",
    "from pandas import Series, DataFrame\n",
    "import re\n",
    "import numpy as np"
   ]
  },
  {
   "cell_type": "code",
   "execution_count": 17,
   "metadata": {},
   "outputs": [],
   "source": [
    "dxy_rumors=pd.read_csv('../data/DXY_rumors.csv')\n",
    "google_rumors=pd.read_csv('../data/Google_rumors.csv')\n",
    "label_dict= {}\n",
    "for i in range(len(dxy_rumors)):\n",
    "    label_dict[dxy_rumors.title[i][0:-1]] = dxy_rumors.rumorType[i]"
   ]
  },
  {
   "cell_type": "code",
   "execution_count": null,
   "outputs": [],
   "source": [
    "label = np.zeros(len(google_rumors))\n",
    "for i in range(len(google_rumors)):\n",
    "     label[i] = label_dict[google_rumors.keyword[i]]\n"
   ],
   "metadata": {
    "collapsed": false,
    "pycharm": {
     "name": "#%%\n"
    }
   }
  },
  {
   "cell_type": "code",
   "execution_count": null,
   "outputs": [],
   "source": [
    "np.where(google_rumors.keyword=='了解原因')"
   ],
   "metadata": {
    "collapsed": false,
    "pycharm": {
     "name": "#%%\n"
    }
   }
  },
  {
   "cell_type": "code",
   "execution_count": null,
   "outputs": [],
   "source": [
    "google_rumors.values[15]"
   ],
   "metadata": {
    "collapsed": false,
    "pycharm": {
     "name": "#%%\n"
    }
   }
  },
  {
   "cell_type": "code",
   "execution_count": null,
   "outputs": [],
   "source": [
    "dxy_rumors"
   ],
   "metadata": {
    "collapsed": false,
    "pycharm": {
     "name": "#%%\n"
    }
   }
  },
  {
   "cell_type": "code",
   "execution_count": 25,
   "metadata": {},
   "outputs": [
    {
     "ename": "KeyError",
     "evalue": "'了解原因'",
     "output_type": "error",
     "traceback": [
      "\u001b[1;31m---------------------------------------------------------------------------\u001b[0m",
      "\u001b[1;31mKeyError\u001b[0m                                  Traceback (most recent call last)",
      "\u001b[1;32m<ipython-input-25-e5f45768fa02>\u001b[0m in \u001b[0;36m<module>\u001b[1;34m\u001b[0m\n\u001b[0;32m      1\u001b[0m \u001b[0mlabel\u001b[0m \u001b[1;33m=\u001b[0m \u001b[0mnp\u001b[0m\u001b[1;33m.\u001b[0m\u001b[0mzeros\u001b[0m\u001b[1;33m(\u001b[0m\u001b[0mlen\u001b[0m\u001b[1;33m(\u001b[0m\u001b[0mgoogle_rumors\u001b[0m\u001b[1;33m)\u001b[0m\u001b[1;33m)\u001b[0m\u001b[1;33m\u001b[0m\u001b[1;33m\u001b[0m\u001b[0m\n\u001b[0;32m      2\u001b[0m \u001b[1;32mfor\u001b[0m \u001b[0mi\u001b[0m \u001b[1;32min\u001b[0m \u001b[0mrange\u001b[0m\u001b[1;33m(\u001b[0m\u001b[0mlen\u001b[0m\u001b[1;33m(\u001b[0m\u001b[0mgoogle_rumors\u001b[0m\u001b[1;33m)\u001b[0m\u001b[1;33m)\u001b[0m\u001b[1;33m:\u001b[0m\u001b[1;33m\u001b[0m\u001b[1;33m\u001b[0m\u001b[0m\n\u001b[1;32m----> 3\u001b[1;33m      \u001b[0mlabel\u001b[0m\u001b[1;33m[\u001b[0m\u001b[0mi\u001b[0m\u001b[1;33m]\u001b[0m \u001b[1;33m=\u001b[0m \u001b[0mlabel_dict\u001b[0m\u001b[1;33m[\u001b[0m\u001b[0mgoogle_rumors\u001b[0m\u001b[1;33m.\u001b[0m\u001b[0mkeyword\u001b[0m\u001b[1;33m[\u001b[0m\u001b[0mi\u001b[0m\u001b[1;33m]\u001b[0m\u001b[1;33m]\u001b[0m\u001b[1;33m\u001b[0m\u001b[1;33m\u001b[0m\u001b[0m\n\u001b[0m",
      "\u001b[1;31mKeyError\u001b[0m: '了解原因'"
     ]
    }
   ],
   "source": []
  },
  {
   "cell_type": "code",
   "execution_count": 30,
   "metadata": {},
   "outputs": [
    {
     "data": {
      "text/plain": [
       "(array([  15,  232,  542,  759,  871, 1731, 2278, 3060, 3189, 3690],\n",
       "       dtype=int64),)"
      ]
     },
     "execution_count": 30,
     "metadata": {},
     "output_type": "execute_result"
    }
   ],
   "source": [
    "np.where(google_rumors.keyword=='了解原因')"
   ]
  },
  {
   "cell_type": "code",
   "execution_count": 32,
   "metadata": {},
   "outputs": [
    {
     "data": {
      "text/plain": [
       "array(['了解原因',\n",
       "       'https://mp.weixin.qq.com/s?__biz=MjM5NjI2ODA4Mw==&mid=2653032540&idx=3&sn=b28f2ef0f37600a680c4fe18c76157db&chksm=bd3d61008a4ae8169154f42188735dd303c034dd1d6f9deb0c2a2bc339573ab6b0094e7e1a7c&mpshare=1&scene=23&srcid=&sharer_sharetime=1583481045052&sharer_s',\n",
       "       'mp.weixin.qq.com › sharer_s', nan, '15', nan, nan], dtype=object)"
      ]
     },
     "execution_count": 32,
     "metadata": {},
     "output_type": "execute_result"
    }
   ],
   "source": [
    "google_rumors.values[15]"
   ]
  },
  {
   "cell_type": "code",
   "execution_count": 26,
   "metadata": {},
   "outputs": [
    {
     "data": {
      "text/html": [
       "<div>\n",
       "<style scoped>\n",
       "    .dataframe tbody tr th:only-of-type {\n",
       "        vertical-align: middle;\n",
       "    }\n",
       "\n",
       "    .dataframe tbody tr th {\n",
       "        vertical-align: top;\n",
       "    }\n",
       "\n",
       "    .dataframe thead th {\n",
       "        text-align: right;\n",
       "    }\n",
       "</style>\n",
       "<table border=\"1\" class=\"dataframe\">\n",
       "  <thead>\n",
       "    <tr style=\"text-align: right;\">\n",
       "      <th></th>\n",
       "      <th>_id</th>\n",
       "      <th>id</th>\n",
       "      <th>title</th>\n",
       "      <th>mainSummary</th>\n",
       "      <th>summary</th>\n",
       "      <th>body</th>\n",
       "      <th>sourceUrl</th>\n",
       "      <th>rumorType</th>\n",
       "      <th>crawlTime</th>\n",
       "    </tr>\n",
       "  </thead>\n",
       "  <tbody>\n",
       "    <tr>\n",
       "      <th>0</th>\n",
       "      <td>5e61bd6be888d2a2299c3126</td>\n",
       "      <td>184</td>\n",
       "      <td>疫情期间大强度锻炼可提高抵抗力？</td>\n",
       "      <td>国家体育总局体育科学研究所研究员徐建方：长时间大强度的运动，会导致身体机能失调，免疫功能下降</td>\n",
       "      <td>NaN</td>\n",
       "      <td>长时间大强度的运动，会导致身体机能失调，免疫功能下降，并且运动损伤风险增加。因此，特别忌讳平...</td>\n",
       "      <td>NaN</td>\n",
       "      <td>0</td>\n",
       "      <td>2020-03-06 11:03:02</td>\n",
       "    </tr>\n",
       "    <tr>\n",
       "      <th>1</th>\n",
       "      <td>5e61bd6be888d2a2299c3127</td>\n",
       "      <td>182</td>\n",
       "      <td>吃降压药会增加感染病毒的风险？</td>\n",
       "      <td>丁香医生团队辟谣：目前没有任何动物和临床研究数据证实这种说法的可靠性</td>\n",
       "      <td>NaN</td>\n",
       "      <td>因现有研究显示ACE2是新型冠状病毒入侵人体的关键，网传服用ACEI（血管紧张素转化酶抑制剂...</td>\n",
       "      <td>NaN</td>\n",
       "      <td>0</td>\n",
       "      <td>2020-03-06 11:03:02</td>\n",
       "    </tr>\n",
       "    <tr>\n",
       "      <th>2</th>\n",
       "      <td>5e5e14bd91153bfddf437eee</td>\n",
       "      <td>184</td>\n",
       "      <td>疫情期间大强度锻炼可提高抵抗力？</td>\n",
       "      <td>国家体育总局体育科学研究所研究员徐建方：长时间大强度的运动，会导致身体机能失调，免疫功能下降</td>\n",
       "      <td>NaN</td>\n",
       "      <td>在居家防疫期间，为确保运动安全有效，运动强度必须适宜。强度过低，没有锻炼效果，但是长时间大强...</td>\n",
       "      <td>NaN</td>\n",
       "      <td>0</td>\n",
       "      <td>2020-03-03 16:26:32</td>\n",
       "    </tr>\n",
       "    <tr>\n",
       "      <th>3</th>\n",
       "      <td>5e5cbdc5c550814970f586ce</td>\n",
       "      <td>183</td>\n",
       "      <td>改用吸痰机后，武汉死亡人数减半？</td>\n",
       "      <td>刘良教授辟谣：没有干预过任何个例的临床治疗</td>\n",
       "      <td>NaN</td>\n",
       "      <td>有传闻称：「病患遗体解剖发现死者肺部出现大量痰栓，而痰栓是由呼吸机使用所产生，致人缺氧而死。...</td>\n",
       "      <td>NaN</td>\n",
       "      <td>0</td>\n",
       "      <td>2020-03-02 16:03:15</td>\n",
       "    </tr>\n",
       "    <tr>\n",
       "      <th>4</th>\n",
       "      <td>5e5cbd47c550814970f586a8</td>\n",
       "      <td>182</td>\n",
       "      <td>吃降压药会增加感染病毒的风险？</td>\n",
       "      <td>丁香医生团队辟谣：目前没有任何动物和临床研究数据证实这种说法的可靠性</td>\n",
       "      <td>NaN</td>\n",
       "      <td>因现有研究显示ACE2是新型冠状病毒入侵人体的关键，网传服用ACEI（血管紧张素转化酶抑制剂...</td>\n",
       "      <td>NaN</td>\n",
       "      <td>0</td>\n",
       "      <td>2020-03-02 16:01:08</td>\n",
       "    </tr>\n",
       "    <tr>\n",
       "      <th>...</th>\n",
       "      <td>...</td>\n",
       "      <td>...</td>\n",
       "      <td>...</td>\n",
       "      <td>...</td>\n",
       "      <td>...</td>\n",
       "      <td>...</td>\n",
       "      <td>...</td>\n",
       "      <td>...</td>\n",
       "      <td>...</td>\n",
       "    </tr>\n",
       "    <tr>\n",
       "      <th>279</th>\n",
       "      <td>5e3065acf8be3cb05ba2bf12</td>\n",
       "      <td>48</td>\n",
       "      <td>深圳要封城？</td>\n",
       "      <td>深圳市互联网信息办公室：是谣言</td>\n",
       "      <td>NaN</td>\n",
       "      <td>1月26日下午从深圳市新型冠状病毒感染的肺炎疫情防控工作领导小组办公室获悉，有关深圳市将要“...</td>\n",
       "      <td>NaN</td>\n",
       "      <td>0</td>\n",
       "      <td>2020-01-29 00:47:32</td>\n",
       "    </tr>\n",
       "    <tr>\n",
       "      <th>280</th>\n",
       "      <td>5e3065acf8be3cb05ba2bf13</td>\n",
       "      <td>49</td>\n",
       "      <td>日本派出千名医疗人员？</td>\n",
       "      <td>其实是误解</td>\n",
       "      <td>NaN</td>\n",
       "      <td>27日下午，网上流传一张日本媒体报道武汉肺炎疫情的截图，配文称“日本派了1000名医疗工作者...</td>\n",
       "      <td>NaN</td>\n",
       "      <td>0</td>\n",
       "      <td>2020-01-29 00:47:32</td>\n",
       "    </tr>\n",
       "    <tr>\n",
       "      <th>281</th>\n",
       "      <td>5e3065acf8be3cb05ba2bf14</td>\n",
       "      <td>50</td>\n",
       "      <td>带呼吸阀的口罩没有用？</td>\n",
       "      <td>丁香医生团队辟谣：口罩上有呼吸阀不用担心</td>\n",
       "      <td>NaN</td>\n",
       "      <td>呼吸阀的气流是单向向外的，不影响使用者的防护效果。但已经有症状的人，建议不要使用带有呼吸阀的...</td>\n",
       "      <td>NaN</td>\n",
       "      <td>0</td>\n",
       "      <td>2020-01-29 00:47:32</td>\n",
       "    </tr>\n",
       "    <tr>\n",
       "      <th>282</th>\n",
       "      <td>5e3065acf8be3cb05ba2bf15</td>\n",
       "      <td>51</td>\n",
       "      <td>熏醋可以预防新冠？</td>\n",
       "      <td>丁香医生团队辟谣：熏醋杀不死新型冠状病毒</td>\n",
       "      <td>NaN</td>\n",
       "      <td>一瓶醋里的醋酸含量最多也只有5%。将醋里的醋酸蒸发到空气中的做法，提升空气酸度的空间十分有限...</td>\n",
       "      <td>NaN</td>\n",
       "      <td>0</td>\n",
       "      <td>2020-01-29 00:47:32</td>\n",
       "    </tr>\n",
       "    <tr>\n",
       "      <th>283</th>\n",
       "      <td>5e3065acf8be3cb05ba2bf16</td>\n",
       "      <td>52</td>\n",
       "      <td>上海出租车网约车停运？</td>\n",
       "      <td>多个平台回复：不实消息</td>\n",
       "      <td>NaN</td>\n",
       "      <td>27日下午，一则消息称，自2020年1月28日24时起，市区网约车，出租车一律停止运营。东方...</td>\n",
       "      <td>NaN</td>\n",
       "      <td>0</td>\n",
       "      <td>2020-01-29 00:47:32</td>\n",
       "    </tr>\n",
       "  </tbody>\n",
       "</table>\n",
       "<p>284 rows × 9 columns</p>\n",
       "</div>"
      ],
      "text/plain": [
       "                          _id   id             title  \\\n",
       "0    5e61bd6be888d2a2299c3126  184  疫情期间大强度锻炼可提高抵抗力？   \n",
       "1    5e61bd6be888d2a2299c3127  182   吃降压药会增加感染病毒的风险？   \n",
       "2    5e5e14bd91153bfddf437eee  184  疫情期间大强度锻炼可提高抵抗力？   \n",
       "3    5e5cbdc5c550814970f586ce  183  改用吸痰机后，武汉死亡人数减半？   \n",
       "4    5e5cbd47c550814970f586a8  182   吃降压药会增加感染病毒的风险？   \n",
       "..                        ...  ...               ...   \n",
       "279  5e3065acf8be3cb05ba2bf12   48            深圳要封城？   \n",
       "280  5e3065acf8be3cb05ba2bf13   49       日本派出千名医疗人员？   \n",
       "281  5e3065acf8be3cb05ba2bf14   50       带呼吸阀的口罩没有用？   \n",
       "282  5e3065acf8be3cb05ba2bf15   51         熏醋可以预防新冠？   \n",
       "283  5e3065acf8be3cb05ba2bf16   52       上海出租车网约车停运？   \n",
       "\n",
       "                                        mainSummary  summary  \\\n",
       "0    国家体育总局体育科学研究所研究员徐建方：长时间大强度的运动，会导致身体机能失调，免疫功能下降      NaN   \n",
       "1                丁香医生团队辟谣：目前没有任何动物和临床研究数据证实这种说法的可靠性      NaN   \n",
       "2    国家体育总局体育科学研究所研究员徐建方：长时间大强度的运动，会导致身体机能失调，免疫功能下降      NaN   \n",
       "3                             刘良教授辟谣：没有干预过任何个例的临床治疗      NaN   \n",
       "4                丁香医生团队辟谣：目前没有任何动物和临床研究数据证实这种说法的可靠性      NaN   \n",
       "..                                              ...      ...   \n",
       "279                                 深圳市互联网信息办公室：是谣言      NaN   \n",
       "280                                           其实是误解      NaN   \n",
       "281                            丁香医生团队辟谣：口罩上有呼吸阀不用担心      NaN   \n",
       "282                            丁香医生团队辟谣：熏醋杀不死新型冠状病毒      NaN   \n",
       "283                                     多个平台回复：不实消息      NaN   \n",
       "\n",
       "                                                  body sourceUrl  rumorType  \\\n",
       "0    长时间大强度的运动，会导致身体机能失调，免疫功能下降，并且运动损伤风险增加。因此，特别忌讳平...       NaN          0   \n",
       "1    因现有研究显示ACE2是新型冠状病毒入侵人体的关键，网传服用ACEI（血管紧张素转化酶抑制剂...       NaN          0   \n",
       "2    在居家防疫期间，为确保运动安全有效，运动强度必须适宜。强度过低，没有锻炼效果，但是长时间大强...       NaN          0   \n",
       "3    有传闻称：「病患遗体解剖发现死者肺部出现大量痰栓，而痰栓是由呼吸机使用所产生，致人缺氧而死。...       NaN          0   \n",
       "4    因现有研究显示ACE2是新型冠状病毒入侵人体的关键，网传服用ACEI（血管紧张素转化酶抑制剂...       NaN          0   \n",
       "..                                                 ...       ...        ...   \n",
       "279  1月26日下午从深圳市新型冠状病毒感染的肺炎疫情防控工作领导小组办公室获悉，有关深圳市将要“...       NaN          0   \n",
       "280  27日下午，网上流传一张日本媒体报道武汉肺炎疫情的截图，配文称“日本派了1000名医疗工作者...       NaN          0   \n",
       "281  呼吸阀的气流是单向向外的，不影响使用者的防护效果。但已经有症状的人，建议不要使用带有呼吸阀的...       NaN          0   \n",
       "282  一瓶醋里的醋酸含量最多也只有5%。将醋里的醋酸蒸发到空气中的做法，提升空气酸度的空间十分有限...       NaN          0   \n",
       "283  27日下午，一则消息称，自2020年1月28日24时起，市区网约车，出租车一律停止运营。东方...       NaN          0   \n",
       "\n",
       "               crawlTime  \n",
       "0    2020-03-06 11:03:02  \n",
       "1    2020-03-06 11:03:02  \n",
       "2    2020-03-03 16:26:32  \n",
       "3    2020-03-02 16:03:15  \n",
       "4    2020-03-02 16:01:08  \n",
       "..                   ...  \n",
       "279  2020-01-29 00:47:32  \n",
       "280  2020-01-29 00:47:32  \n",
       "281  2020-01-29 00:47:32  \n",
       "282  2020-01-29 00:47:32  \n",
       "283  2020-01-29 00:47:32  \n",
       "\n",
       "[284 rows x 9 columns]"
      ]
     },
     "execution_count": 26,
     "metadata": {},
     "output_type": "execute_result"
    }
   ],
   "source": [
    "dxy_rumors"
   ]
  },
  {
   "cell_type": "code",
   "execution_count": null,
   "metadata": {},
   "outputs": [],
   "source": []
  }
 ],
 "metadata": {
  "kernelspec": {
   "display_name": "Python 3",
   "language": "python",
   "name": "python3"
  },
  "language_info": {
   "codemirror_mode": {
    "name": "ipython",
    "version": 3
   },
   "file_extension": ".py",
   "mimetype": "text/x-python",
   "name": "python",
   "nbconvert_exporter": "python",
   "pygments_lexer": "ipython3",
   "version": "3.7.6"
  },
  "pycharm": {
   "stem_cell": {
    "cell_type": "raw",
    "source": [],
    "metadata": {
     "collapsed": false
    }
   }
  }
 },
 "nbformat": 4,
 "nbformat_minor": 4
}